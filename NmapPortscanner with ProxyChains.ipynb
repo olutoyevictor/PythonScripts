{
 "cells": [
  {
   "cell_type": "code",
   "execution_count": 1,
   "id": "latter-conditioning",
   "metadata": {},
   "outputs": [
    {
     "name": "stdout",
     "output_type": "stream",
     "text": [
      "Welcome, this is a simple nmap automation Tool\n",
      "<*********************************************>\n",
      "Please enter the ip address you want to scan: 1.1.1.1\n",
      "The IP you enter is:  1.1.1.1\n",
      "\n",
      "Please enter the type of scan you want to run\n",
      "                1)SYN ACK Scan\n",
      "                2)UDP Scan\n",
      "                3)Comprehensive Scan\n",
      "1\n",
      "You have selected option:  1\n",
      "Nmap Version:  (7, 91)\n"
     ]
    },
    {
     "ename": "PortScannerError",
     "evalue": "'You requested a scan type which requires root privileges.\\nQUITTING!\\n'",
     "output_type": "error",
     "traceback": [
      "\u001b[0;31m---------------------------------------------------------------------------\u001b[0m",
      "\u001b[0;31mParseError\u001b[0m                                Traceback (most recent call last)",
      "\u001b[0;32m/usr/local/lib/python3.9/dist-packages/nmap/nmap.py\u001b[0m in \u001b[0;36manalyse_nmap_xml_scan\u001b[0;34m(self, nmap_xml_output, nmap_err, nmap_err_keep_trace, nmap_warn_keep_trace)\u001b[0m\n\u001b[1;32m    321\u001b[0m         \u001b[0;32mtry\u001b[0m\u001b[0;34m:\u001b[0m\u001b[0;34m\u001b[0m\u001b[0;34m\u001b[0m\u001b[0m\n\u001b[0;32m--> 322\u001b[0;31m             \u001b[0mdom\u001b[0m \u001b[0;34m=\u001b[0m \u001b[0mET\u001b[0m\u001b[0;34m.\u001b[0m\u001b[0mfromstring\u001b[0m\u001b[0;34m(\u001b[0m\u001b[0mself\u001b[0m\u001b[0;34m.\u001b[0m\u001b[0m_nmap_last_output\u001b[0m\u001b[0;34m)\u001b[0m\u001b[0;34m\u001b[0m\u001b[0;34m\u001b[0m\u001b[0m\n\u001b[0m\u001b[1;32m    323\u001b[0m         \u001b[0;32mexcept\u001b[0m \u001b[0mException\u001b[0m\u001b[0;34m:\u001b[0m\u001b[0;34m\u001b[0m\u001b[0;34m\u001b[0m\u001b[0m\n",
      "\u001b[0;32m/usr/lib/python3.9/xml/etree/ElementTree.py\u001b[0m in \u001b[0;36mXML\u001b[0;34m(text, parser)\u001b[0m\n\u001b[1;32m   1347\u001b[0m     \u001b[0mparser\u001b[0m\u001b[0;34m.\u001b[0m\u001b[0mfeed\u001b[0m\u001b[0;34m(\u001b[0m\u001b[0mtext\u001b[0m\u001b[0;34m)\u001b[0m\u001b[0;34m\u001b[0m\u001b[0;34m\u001b[0m\u001b[0m\n\u001b[0;32m-> 1348\u001b[0;31m     \u001b[0;32mreturn\u001b[0m \u001b[0mparser\u001b[0m\u001b[0;34m.\u001b[0m\u001b[0mclose\u001b[0m\u001b[0;34m(\u001b[0m\u001b[0;34m)\u001b[0m\u001b[0;34m\u001b[0m\u001b[0;34m\u001b[0m\u001b[0m\n\u001b[0m\u001b[1;32m   1349\u001b[0m \u001b[0;34m\u001b[0m\u001b[0m\n",
      "\u001b[0;31mParseError\u001b[0m: no element found: line 1, column 0",
      "\nDuring handling of the above exception, another exception occurred:\n",
      "\u001b[0;31mPortScannerError\u001b[0m                          Traceback (most recent call last)",
      "\u001b[0;32m<ipython-input-1-b0da76ab9a23>\u001b[0m in \u001b[0;36m<module>\u001b[0;34m\u001b[0m\n\u001b[1;32m     19\u001b[0m \u001b[0;32mif\u001b[0m \u001b[0mresp\u001b[0m \u001b[0;34m==\u001b[0m \u001b[0;34m'1'\u001b[0m\u001b[0;34m:\u001b[0m\u001b[0;34m\u001b[0m\u001b[0;34m\u001b[0m\u001b[0m\n\u001b[1;32m     20\u001b[0m     \u001b[0mprint\u001b[0m\u001b[0;34m(\u001b[0m\u001b[0;34m\"Nmap Version: \"\u001b[0m\u001b[0;34m,\u001b[0m \u001b[0mscanner\u001b[0m\u001b[0;34m.\u001b[0m\u001b[0mnmap_version\u001b[0m\u001b[0;34m(\u001b[0m\u001b[0;34m)\u001b[0m\u001b[0;34m)\u001b[0m\u001b[0;34m\u001b[0m\u001b[0;34m\u001b[0m\u001b[0m\n\u001b[0;32m---> 21\u001b[0;31m     \u001b[0mscanner\u001b[0m\u001b[0;34m.\u001b[0m\u001b[0mscan\u001b[0m\u001b[0;34m(\u001b[0m\u001b[0mip_addr\u001b[0m\u001b[0;34m,\u001b[0m \u001b[0;34m'1-1024'\u001b[0m\u001b[0;34m,\u001b[0m \u001b[0;34m'-v -sS'\u001b[0m\u001b[0;34m)\u001b[0m\u001b[0;34m\u001b[0m\u001b[0;34m\u001b[0m\u001b[0m\n\u001b[0m\u001b[1;32m     22\u001b[0m     \u001b[0mprint\u001b[0m\u001b[0;34m(\u001b[0m\u001b[0mscanner\u001b[0m\u001b[0;34m.\u001b[0m\u001b[0mscaninfo\u001b[0m\u001b[0;34m(\u001b[0m\u001b[0;34m)\u001b[0m\u001b[0;34m)\u001b[0m\u001b[0;34m\u001b[0m\u001b[0;34m\u001b[0m\u001b[0m\n\u001b[1;32m     23\u001b[0m     \u001b[0mprint\u001b[0m\u001b[0;34m(\u001b[0m\u001b[0;34m\"Ip Status: \"\u001b[0m\u001b[0;34m,\u001b[0m \u001b[0mscanner\u001b[0m\u001b[0;34m[\u001b[0m\u001b[0mip_addr\u001b[0m\u001b[0;34m]\u001b[0m\u001b[0;34m.\u001b[0m\u001b[0mstate\u001b[0m\u001b[0;34m(\u001b[0m\u001b[0;34m)\u001b[0m\u001b[0;34m)\u001b[0m\u001b[0;34m\u001b[0m\u001b[0;34m\u001b[0m\u001b[0m\n",
      "\u001b[0;32m/usr/local/lib/python3.9/dist-packages/nmap/nmap.py\u001b[0m in \u001b[0;36mscan\u001b[0;34m(self, hosts, ports, arguments, sudo)\u001b[0m\n\u001b[1;32m    260\u001b[0m                         \u001b[0mnmap_err_keep_trace\u001b[0m\u001b[0;34m.\u001b[0m\u001b[0mappend\u001b[0m\u001b[0;34m(\u001b[0m\u001b[0mnmap_err\u001b[0m\u001b[0;34m)\u001b[0m\u001b[0;34m\u001b[0m\u001b[0;34m\u001b[0m\u001b[0m\n\u001b[1;32m    261\u001b[0m \u001b[0;34m\u001b[0m\u001b[0m\n\u001b[0;32m--> 262\u001b[0;31m         return self.analyse_nmap_xml_scan(\n\u001b[0m\u001b[1;32m    263\u001b[0m             \u001b[0mnmap_xml_output\u001b[0m\u001b[0;34m=\u001b[0m\u001b[0mself\u001b[0m\u001b[0;34m.\u001b[0m\u001b[0m_nmap_last_output\u001b[0m\u001b[0;34m,\u001b[0m\u001b[0;34m\u001b[0m\u001b[0;34m\u001b[0m\u001b[0m\n\u001b[1;32m    264\u001b[0m             \u001b[0mnmap_err\u001b[0m\u001b[0;34m=\u001b[0m\u001b[0mnmap_err\u001b[0m\u001b[0;34m,\u001b[0m\u001b[0;34m\u001b[0m\u001b[0;34m\u001b[0m\u001b[0m\n",
      "\u001b[0;32m/usr/local/lib/python3.9/dist-packages/nmap/nmap.py\u001b[0m in \u001b[0;36manalyse_nmap_xml_scan\u001b[0;34m(self, nmap_xml_output, nmap_err, nmap_err_keep_trace, nmap_warn_keep_trace)\u001b[0m\n\u001b[1;32m    323\u001b[0m         \u001b[0;32mexcept\u001b[0m \u001b[0mException\u001b[0m\u001b[0;34m:\u001b[0m\u001b[0;34m\u001b[0m\u001b[0;34m\u001b[0m\u001b[0m\n\u001b[1;32m    324\u001b[0m             \u001b[0;32mif\u001b[0m \u001b[0mlen\u001b[0m\u001b[0;34m(\u001b[0m\u001b[0mnmap_err\u001b[0m\u001b[0;34m)\u001b[0m\u001b[0;34m>\u001b[0m\u001b[0;36m0\u001b[0m\u001b[0;34m:\u001b[0m\u001b[0;34m\u001b[0m\u001b[0;34m\u001b[0m\u001b[0m\n\u001b[0;32m--> 325\u001b[0;31m                 \u001b[0;32mraise\u001b[0m \u001b[0mPortScannerError\u001b[0m\u001b[0;34m(\u001b[0m\u001b[0mnmap_err\u001b[0m\u001b[0;34m)\u001b[0m\u001b[0;34m\u001b[0m\u001b[0;34m\u001b[0m\u001b[0m\n\u001b[0m\u001b[1;32m    326\u001b[0m             \u001b[0;32melse\u001b[0m\u001b[0;34m:\u001b[0m\u001b[0;34m\u001b[0m\u001b[0;34m\u001b[0m\u001b[0m\n\u001b[1;32m    327\u001b[0m                 \u001b[0;32mraise\u001b[0m \u001b[0mPortScannerError\u001b[0m\u001b[0;34m(\u001b[0m\u001b[0mself\u001b[0m\u001b[0;34m.\u001b[0m\u001b[0m_nmap_last_output\u001b[0m\u001b[0;34m)\u001b[0m\u001b[0;34m\u001b[0m\u001b[0;34m\u001b[0m\u001b[0m\n",
      "\u001b[0;31mPortScannerError\u001b[0m: 'You requested a scan type which requires root privileges.\\nQUITTING!\\n'"
     ]
    }
   ],
   "source": [
    "import nmap\n",
    "\n",
    "scanner = nmap.PortScanner()\n",
    "print(\"Welcome, this is a simple nmap automation Tool\")\n",
    "\n",
    "print(\"<*********************************************>\")\n",
    "\n",
    "ip_addr = input(\"Please enter the ip address you want to scan: \")\n",
    "print(\"The IP you enter is: \", ip_addr)\n",
    "type(ip_addr)\n",
    "\n",
    "resp = input(\"\"\"\\nPlease enter the type of scan you want to run\n",
    "                1)SYN ACK Scan\n",
    "                2)UDP Scan\n",
    "                3)Comprehensive Scan\\n\"\"\")\n",
    "\n",
    "print(\"You have selected option: \", resp)\n",
    "\n",
    "if resp == '1':\n",
    "    print(\"Nmap Version: \", scanner.nmap_version())\n",
    "    scanner.scan(ip_addr, '1-1024', '-v -sS')\n",
    "    print(scanner.scaninfo())\n",
    "    print(\"Ip Status: \", scanner[ip_addr].state())\n",
    "    print(scanner[ip_addr].all_protocols())\n",
    "    print(\"Open Port: \", scanner[ip_addr]['tcp'].keys())"
   ]
  },
  {
   "cell_type": "code",
   "execution_count": null,
   "id": "matched-benefit",
   "metadata": {},
   "outputs": [],
   "source": []
  }
 ],
 "metadata": {
  "kernelspec": {
   "display_name": "Python 3",
   "language": "python",
   "name": "python3"
  },
  "language_info": {
   "codemirror_mode": {
    "name": "ipython",
    "version": 3
   },
   "file_extension": ".py",
   "mimetype": "text/x-python",
   "name": "python",
   "nbconvert_exporter": "python",
   "pygments_lexer": "ipython3",
   "version": "3.9.1+"
  }
 },
 "nbformat": 4,
 "nbformat_minor": 5
}
